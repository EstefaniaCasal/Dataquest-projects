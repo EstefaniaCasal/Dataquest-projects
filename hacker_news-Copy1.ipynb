{
 "cells": [
  {
   "cell_type": "markdown",
   "metadata": {
    "collapsed": true
   },
   "source": [
    "# Exploring Hacker News Posts\n",
    "## Introduction"
   ]
  },
  {
   "cell_type": "markdown",
   "metadata": {},
   "source": [
    "We'll work with a dataset of submissions to popular technology site Hacker News.\n",
    "\n",
    "**What is Hacker News?**\n",
    "\n",
    "Hacker News is a site started by the startup incubator Y Combinator, where user-submitted stories (known as \"posts\") receive votes and comments, similar to reddit. Hacker News is extremely popular in technology and startup circles, and posts that make it to the top of the Hacker News listings can get hundreds of thousands of visitors as a result. Users submit Ask HN posts to ask the Hacker News community a specific question. Likewise, users submit Show HN posts to show the Hacker News community a project, product, or just something interesting."
   ]
  },
  {
   "cell_type": "markdown",
   "metadata": {},
   "source": [
    "## Questions we will answer\n",
    "* **Do Ask HN or Show HN receive more comments on average?**\n",
    "* **Do posts created at a certain time receive more comments on average?**"
   ]
  },
  {
   "cell_type": "markdown",
   "metadata": {},
   "source": [
    "In order to answer these questions, we gathered 20000 rows containing submissions on Hacker News that received at least one comment.\n",
    "We will work with posts with titles that begin with either *Ask HN* or *Show HN* and we will compare these two types of posts."
   ]
  },
  {
   "cell_type": "markdown",
   "metadata": {},
   "source": [
    "# First question: \n",
    "# Do Ask HN or Show HN receive more comments on average?\n",
    "\n"
   ]
  },
  {
   "cell_type": "code",
   "execution_count": 1,
   "metadata": {},
   "outputs": [
    {
     "name": "stdout",
     "output_type": "stream",
     "text": [
      "[['id', 'title', 'url', 'num_points', 'num_comments', 'author', 'created_at'], ['12224879', 'Interactive Dynamic Video', 'http://www.interactivedynamicvideo.com/', '386', '52', 'ne0phyte', '8/4/2016 11:52'], ['10975351', 'How to Use Open Source and Shut the Fuck Up at the Same Time', 'http://hueniverse.com/2016/01/26/how-to-use-open-source-and-shut-the-fuck-up-at-the-same-time/', '39', '10', 'josep2', '1/26/2016 19:30'], ['11964716', \"Florida DJs May Face Felony for April Fools' Water Joke\", 'http://www.thewire.com/entertainment/2013/04/florida-djs-april-fools-water-joke/63798/', '2', '1', 'vezycash', '6/23/2016 22:20'], ['11919867', 'Technology ventures: From Idea to Enterprise', 'https://www.amazon.com/Technology-Ventures-Enterprise-Thomas-Byers/dp/0073523429', '3', '1', 'hswarna', '6/17/2016 0:01']]\n"
     ]
    }
   ],
   "source": [
    "#Let's start by importing the libraries we need and reading the dataset into a list of lists.\n",
    "import csv \n",
    "from csv import reader\n",
    "open_hn = open('hacker_news.csv')\n",
    "hn = list(reader(open_hn))\n",
    "\n",
    "print(hn[:5])"
   ]
  },
  {
   "cell_type": "code",
   "execution_count": 2,
   "metadata": {},
   "outputs": [
    {
     "name": "stdout",
     "output_type": "stream",
     "text": [
      "[['12224879', 'Interactive Dynamic Video', 'http://www.interactivedynamicvideo.com/', '386', '52', 'ne0phyte', '8/4/2016 11:52'], ['10975351', 'How to Use Open Source and Shut the Fuck Up at the Same Time', 'http://hueniverse.com/2016/01/26/how-to-use-open-source-and-shut-the-fuck-up-at-the-same-time/', '39', '10', 'josep2', '1/26/2016 19:30'], ['11964716', \"Florida DJs May Face Felony for April Fools' Water Joke\", 'http://www.thewire.com/entertainment/2013/04/florida-djs-april-fools-water-joke/63798/', '2', '1', 'vezycash', '6/23/2016 22:20'], ['11919867', 'Technology ventures: From Idea to Enterprise', 'https://www.amazon.com/Technology-Ventures-Enterprise-Thomas-Byers/dp/0073523429', '3', '1', 'hswarna', '6/17/2016 0:01'], ['10301696', 'Note by Note: The Making of Steinway L1037 (2007)', 'http://www.nytimes.com/2007/11/07/movies/07stein.html?_r=0', '8', '2', 'walterbell', '9/30/2015 4:12']]\n"
     ]
    }
   ],
   "source": [
    "# Now we will remove the header\n",
    "headers = hn[0]\n",
    "hn = hn[1:]\n",
    "print(hn[:5])"
   ]
  },
  {
   "cell_type": "markdown",
   "metadata": {},
   "source": [
    "*Next, we will extract **Ask HN** and **Show HN** Posts.*\n",
    "\n",
    "*We will create two new lists of lists containing just the data for these two titles.*"
   ]
  },
  {
   "cell_type": "code",
   "execution_count": 3,
   "metadata": {},
   "outputs": [
    {
     "name": "stdout",
     "output_type": "stream",
     "text": [
      "1744\n",
      "1162\n",
      "17194\n"
     ]
    }
   ],
   "source": [
    "# We'll use the string method startswith, \n",
    "# Since capitalization matters for startswith method, we also will make use of the lower() method. \n",
    "\n",
    "ask_posts = []\n",
    "show_posts = []\n",
    "other_posts = []\n",
    "\n",
    "for row in hn:\n",
    "    title = row[1].lower()\n",
    "    if title.startswith('ask hn'):\n",
    "        ask_posts.append(row)\n",
    "    elif title.startswith('show hn'):\n",
    "        show_posts.append(row)\n",
    "    else:\n",
    "        other_posts.append(row)\n",
    "        \n",
    "print(len(ask_posts))\n",
    "print(len(show_posts))        \n",
    "print(len(other_posts))\n"
   ]
  },
  {
   "cell_type": "markdown",
   "metadata": {},
   "source": [
    "*Now, we will determine if Ask HN posts or Show HN posts receive more comments on average. In other words, we will see in average which one receives more coments.*"
   ]
  },
  {
   "cell_type": "code",
   "execution_count": 4,
   "metadata": {},
   "outputs": [
    {
     "name": "stdout",
     "output_type": "stream",
     "text": [
      "Average number of comments per Ask HN post:  14.038417431192661\n",
      "Average number of comments per Show HN post:  10.31669535283993\n"
     ]
    }
   ],
   "source": [
    "# First we will find the total number of comments of each ask and show list of lists: \n",
    "# The comments data is in column with index 4.\n",
    "\n",
    "total_ask_comments = 0\n",
    "\n",
    "for row in ask_posts:\n",
    "    comments = int(row[4])\n",
    "    total_ask_comments += comments\n",
    "    \n",
    "total_show_comments = 0    \n",
    "for row in show_posts:\n",
    "    comments = int(row[4])\n",
    "    total_show_comments += comments\n",
    "    \n",
    "# We need the total number of posts for Ask HN and Show HN.\n",
    "ask_number_posts = len(ask_posts)\n",
    "show_number_posts = len(show_posts) \n",
    "\n",
    "# We proceed to obtain the average number of comments for a Ask HN and Show HN post:\n",
    "avg_ask_comments = total_ask_comments / ask_number_posts\n",
    "avg_show_comments = total_show_comments / show_number_posts\n",
    "\n",
    "print('Average number of comments per Ask HN post: ', avg_ask_comments)\n",
    "print('Average number of comments per Show HN post: ', avg_show_comments)\n",
    "\n"
   ]
  },
  {
   "cell_type": "markdown",
   "metadata": {},
   "source": [
    " **Answer to:   Do Ask HN or Show HN receive more comments on average?**\n",
    "\n",
    "It seems that the Ask HN posts receive slightly more comments. The average number of comments for Ask HN ( ~14.04 comments per post ) is slightly higher than that of Show HN ( ~10.32 comments per post )."
   ]
  },
  {
   "cell_type": "markdown",
   "metadata": {},
   "source": [
    "# Second question: Do posts created at a certain time receive more comments on average?"
   ]
  },
  {
   "cell_type": "markdown",
   "metadata": {},
   "source": [
    "*We'll determine if posts created at a certain time are more likely to attract comments. Since Ask HN posts are more likely to receive comments, we'll focus our remaining analysis just on these posts. We will use the following steps to perform this analysis:*\n",
    "\n",
    "* *Calculate the number of ask posts created in each hour of the day, along with the number of comments received.*\n",
    "* *Calculate the average number of comments ask posts receive by hour created.* "
   ]
  },
  {
   "cell_type": "markdown",
   "metadata": {},
   "source": [
    "*Number of ask posts created in each hour of the day and number of comments received:*"
   ]
  },
  {
   "cell_type": "code",
   "execution_count": 5,
   "metadata": {
    "scrolled": true
   },
   "outputs": [
    {
     "name": "stdout",
     "output_type": "stream",
     "text": [
      "Number of posts by hour:\n",
      " {'09': 45, '13': 85, '10': 59, '14': 107, '16': 108, '23': 68, '12': 73, '17': 100, '15': 116, '21': 109, '20': 80, '02': 58, '18': 109, '03': 54, '05': 46, '19': 110, '01': 60, '22': 71, '08': 48, '04': 47, '00': 55, '06': 44, '07': 34, '11': 58}\n",
      "Number of comments by hour:\n",
      " {'09': 251, '13': 1253, '10': 793, '14': 1416, '16': 1814, '23': 543, '12': 687, '17': 1146, '15': 4477, '21': 1745, '20': 1722, '02': 1381, '18': 1439, '03': 421, '05': 464, '19': 1188, '01': 683, '22': 479, '08': 492, '04': 337, '00': 447, '06': 397, '07': 267, '11': 641}\n"
     ]
    }
   ],
   "source": [
    "# We'll use the datetime module to work with the data in the created_at column:\n",
    "import datetime as dt\n",
    "# First, we create a list containing only the two columns of interest from the ask_posts list.\n",
    "result_list = []\n",
    "# The index of the date and time column, created_at, is = 6.\n",
    "# The index of the number of comments received is = 4.\n",
    "for row in ask_posts:\n",
    "    date_time_column = row[6]\n",
    "    comments = int(row[4])\n",
    "    result_list.append([date_time_column,comments])\n",
    "# In order to create a list of lists we have to append both columns at the same time in the format list.append([column1, column2])    \n",
    "    \n",
    "#print(ask_posts[:6]) \n",
    "#print(result_list[:6])\n",
    "# We will make a frequency table for the number of posts by hour.\n",
    "counts_by_hour = {}\n",
    "# We will count the number of comments by hour.\n",
    "comments_by_hour = {}\n",
    "\n",
    "# We will extract the hour form the first column of the result_list (which is a string)\n",
    "# by creating a datetime object from the string using the strptime() method:\n",
    "# The format of the date and time for the created_at column is: \n",
    "# month/day/year hour:min\n",
    "for row in result_list:\n",
    "    date_time = row[0]\n",
    "    comments = row[1]\n",
    "    date_time_dt_object = dt.datetime.strptime(date_time,'%m/%d/%Y %H:%M' )\n",
    "    #time_object = date_time_dt_object.time()\n",
    "    #hour = time_object.time.hour()\n",
    "    #hour1 = hour.strftime('%H')\n",
    "    hour = date_time_dt_object.strftime('%H')  \n",
    "    #print(hour1)\n",
    "    #print('\\n')                                           \n",
    "    #print(hour2)  \n",
    "    # since we initialize both dictionaries at the same time, we can use the same if...else statements to create both dictionaries.\n",
    "    if hour not in counts_by_hour:\n",
    "        counts_by_hour[hour] = 1\n",
    "        comments_by_hour[hour] = comments\n",
    "    else:\n",
    "        counts_by_hour[hour] += 1\n",
    "        comments_by_hour[hour] += comments\n",
    "        \n",
    "    \n",
    "print('Number of posts by hour:\\n',counts_by_hour)\n",
    "print('Number of comments by hour:\\n',comments_by_hour)\n",
    "\n",
    "    \n",
    "\n",
    "\n",
    "\n"
   ]
  },
  {
   "cell_type": "markdown",
   "metadata": {},
   "source": [
    "*Next we will obtain the average number of comments ask posts receive by hour created.*"
   ]
  },
  {
   "cell_type": "code",
   "execution_count": 6,
   "metadata": {},
   "outputs": [
    {
     "name": "stdout",
     "output_type": "stream",
     "text": [
      "[['09', 5.5777777777777775], ['13', 14.741176470588234], ['10', 13.440677966101696], ['14', 13.233644859813085], ['16', 16.796296296296298], ['23', 7.985294117647059], ['12', 9.41095890410959], ['17', 11.46], ['15', 38.5948275862069], ['21', 16.009174311926607], ['20', 21.525], ['02', 23.810344827586206], ['18', 13.20183486238532], ['03', 7.796296296296297], ['05', 10.08695652173913], ['19', 10.8], ['01', 11.383333333333333], ['22', 6.746478873239437], ['08', 10.25], ['04', 7.170212765957447], ['00', 8.127272727272727], ['06', 9.022727272727273], ['07', 7.852941176470588], ['11', 11.051724137931034]]\n"
     ]
    }
   ],
   "source": [
    "# We create a list of lists, the first column will be the hour and the second column will be the average number of comments per post posted at that specific hour.\n",
    "avg_by_hour = []\n",
    "for hour in counts_by_hour:\n",
    "    posts_hour = counts_by_hour[hour]\n",
    "    if hour in comments_by_hour:\n",
    "        comments_hour = comments_by_hour[hour]\n",
    "        avg = comments_hour / posts_hour\n",
    "        avg_by_hour.append([hour, avg])\n",
    "\n",
    "print(avg_by_hour)"
   ]
  },
  {
   "cell_type": "markdown",
   "metadata": {},
   "source": [
    "*In order to make the data easier to read, we will sort the list by the number of comments*\n",
    "*We also will print the five highest values of comments*"
   ]
  },
  {
   "cell_type": "code",
   "execution_count": 13,
   "metadata": {
    "scrolled": true
   },
   "outputs": [
    {
     "name": "stdout",
     "output_type": "stream",
     "text": [
      "[[5.5777777777777775, '09'], [14.741176470588234, '13'], [13.440677966101696, '10'], [13.233644859813085, '14'], [16.796296296296298, '16'], [7.985294117647059, '23'], [9.41095890410959, '12'], [11.46, '17'], [38.5948275862069, '15'], [16.009174311926607, '21'], [21.525, '20'], [23.810344827586206, '02'], [13.20183486238532, '18'], [7.796296296296297, '03'], [10.08695652173913, '05'], [10.8, '19'], [11.383333333333333, '01'], [6.746478873239437, '22'], [10.25, '08'], [7.170212765957447, '04'], [8.127272727272727, '00'], [9.022727272727273, '06'], [7.852941176470588, '07'], [11.051724137931034, '11']]\n",
      "Top 5 Hours for Ask Posts Comments: \n",
      " [[38.5948275862069, '15'], [23.810344827586206, '02'], [21.525, '20'], [16.796296296296298, '16'], [16.009174311926607, '21'], [14.741176470588234, '13']]\n"
     ]
    }
   ],
   "source": [
    "# First, we create a new list by swapping the columns of avg_by_hour. \n",
    "swap_avg_by_hour = []\n",
    "for row in avg_by_hour:\n",
    "    hour = row[0]\n",
    "    avg_comments = row[1]\n",
    "    swap_avg_by_hour.append([avg_comments,hour])\n",
    "print(swap_avg_by_hour)\n",
    "\n",
    "# Next, we sort this list and print the first 5 rows.\n",
    "sorted_swap = sorted(swap_avg_by_hour,reverse=True)\n",
    "\n",
    "print('Top 5 Hours for Ask Posts Comments: \\n',sorted_swap[:6])"
   ]
  },
  {
   "cell_type": "code",
   "execution_count": 23,
   "metadata": {},
   "outputs": [
    {
     "name": "stdout",
     "output_type": "stream",
     "text": [
      "<class 'str'>\n",
      "15:00 38.59 average comments per post\n",
      "<class 'str'>\n",
      "02:00 23.81 average comments per post\n",
      "<class 'str'>\n",
      "20:00 21.52 average comments per post\n",
      "<class 'str'>\n",
      "16:00 16.80 average comments per post\n",
      "<class 'str'>\n",
      "21:00 16.01 average comments per post\n"
     ]
    }
   ],
   "source": [
    "# We print the first 5 rows with a format easier to unserstand:\n",
    "\n",
    "for row in sorted_swap[:5]:\n",
    "    print(type(row[1]))\n",
    "    object_datetime = dt.datetime.strptime(row[1],'%H')\n",
    "    hour = object_datetime.strftime('%H:%M')\n",
    "    average = row[0]\n",
    "    print(\"{hour} {average:.2f} average comments per post\".format(hour=hour, average=average))\n",
    "#{hour} and {average:.2f} are format fields that will be replaced by the values of hour and average, respectively. \n",
    "#The code :.2f specifies that the value of average should be formatted as a decimal number with two digits after the decimal point.\n",
    "\n",
    "#Another useful way to print it using format for the hour and average variables (row[1] and row[0] respectively) and without using datetime class:\n",
    "#print(\"{hour}:00: {average:.2f} average comments per post\".format(hour=hour, average=average))\n",
    "\n"
   ]
  },
  {
   "cell_type": "code",
   "execution_count": 37,
   "metadata": {},
   "outputs": [
    {
     "name": "stdout",
     "output_type": "stream",
     "text": [
      "21:00 38.59 average comments per post, Madrid time\n",
      "08:00 23.81 average comments per post, Madrid time\n",
      "02:00 21.52 average comments per post, Madrid time\n",
      "22:00 16.80 average comments per post, Madrid time\n",
      "03:00 16.01 average comments per post, Madrid time\n"
     ]
    }
   ],
   "source": [
    "# Now we will convert the hours to Madrid time. Most of the year the difference is of 6 hours:\n",
    "from datetime import timedelta\n",
    "for row in sorted_swap[:5]:\n",
    "    # To convert the text chain into a datetime object:\n",
    "    time_usa = dt.datetime.strptime(row[1],'%H')\n",
    "    # To convert into Madrid time, we use the timedelta class from the datetime object time_usa.\n",
    "    madrid_time = time_usa + dt.timedelta(hours=6)\n",
    "    madrid_hour = madrid_time.strftime('%H:%M')\n",
    "    average = row[0]\n",
    "    #print(time_usa)\n",
    "    #print(madrid_time)\n",
    "    print(\"{hour} {average:.2f} average comments per post, Madrid time\".format(hour=madrid_hour, average=average))\n",
    "    \n",
    "    "
   ]
  },
  {
   "cell_type": "markdown",
   "metadata": {},
   "source": [
    "**Answer to: do posts created at a certain time receive more comments on average?**\n",
    "\n",
    "According to the analysis, the highest number of comments on Ask HN posts in the Eastern Time zone of the US is around 15:00, which corresponds to 21:00 in Madrid. These posts receive an average of approximately 40 comments per post. The second most popular time for Ask HN posts is around 2:00, which is 8:00 in Madrid, with an average of about 23 comments per post. Additionally, posts uploaded around 20:00 (2:00 in Madrid) receive an average of approximately 21 comments. Posts written around 16:00 and 21:00 (22:00 and 3:00 in Madrid, respectively) take the fourth and fifth positions, with around 17 and 16 comments per post on average, respectively.\n"
   ]
  },
  {
   "cell_type": "code",
   "execution_count": null,
   "metadata": {},
   "outputs": [],
   "source": []
  }
 ],
 "metadata": {
  "kernelspec": {
   "display_name": "Python 3 (ipykernel)",
   "language": "python",
   "name": "python3"
  },
  "language_info": {
   "codemirror_mode": {
    "name": "ipython",
    "version": 3
   },
   "file_extension": ".py",
   "mimetype": "text/x-python",
   "name": "python",
   "nbconvert_exporter": "python",
   "pygments_lexer": "ipython3",
   "version": "3.10.9"
  }
 },
 "nbformat": 4,
 "nbformat_minor": 2
}
