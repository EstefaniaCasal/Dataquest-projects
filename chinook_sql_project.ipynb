{
 "cells": [
  {
   "cell_type": "markdown",
   "metadata": {},
   "source": [
    "# Answering Business Questions Using SQL #"
   ]
  },
  {
   "cell_type": "markdown",
   "metadata": {},
   "source": [
    "## Introduction ##"
   ]
  },
  {
   "cell_type": "markdown",
   "metadata": {},
   "source": [
    "In this project we will be working with a database called Chinook. This database contains information about a fictional digital music shop kind of like a mini-iTunes store.\n",
    "The Chinook database contains information about the artists, songs, and albums from the music shop, as well as information on the shop's employees, customers, and the customers purchases. This information is contained in eleven tables.\n",
    "\n",
    "Here's a schema diagram for the Chinook database:\n",
    "\n",
    "<img src=\"https://tinypic.host/images/2023/12/02/chinook_esquema.jpeg\" alt=\"chinook_esquema.jpeg\" border=\"0\">\n",
    "\n",
    "We will use this database and the sqlite3 module in order to explore and analyze four fictional business questions and propositions."
   ]
  },
  {
   "cell_type": "markdown",
   "metadata": {},
   "source": [
    "## Set up and Overview of the Data##"
   ]
  },
  {
   "cell_type": "markdown",
   "metadata": {},
   "source": [
    "We first have to connect our Jupyter Notebook to our database file. Then, we will be able to do the first scanning of the Chinook Database."
   ]
  },
  {
   "cell_type": "code",
   "execution_count": 1,
   "metadata": {
    "collapsed": false
   },
   "outputs": [
    {
     "data": {
      "text/plain": [
       "'Connected: None@chinook.db'"
      ]
     },
     "execution_count": 1,
     "metadata": {},
     "output_type": "execute_result"
    }
   ],
   "source": [
    "%%capture\n",
    "%load_ext sql\n",
    "%sql sqlite:///chinook.db"
   ]
  },
  {
   "cell_type": "code",
   "execution_count": 2,
   "metadata": {
    "collapsed": false
   },
   "outputs": [
    {
     "name": "stdout",
     "output_type": "stream",
     "text": [
      "Done.\n"
     ]
    },
    {
     "data": {
      "text/html": [
       "<table>\n",
       "    <tr>\n",
       "        <th>name</th>\n",
       "        <th>type</th>\n",
       "    </tr>\n",
       "    <tr>\n",
       "        <td>album</td>\n",
       "        <td>table</td>\n",
       "    </tr>\n",
       "    <tr>\n",
       "        <td>artist</td>\n",
       "        <td>table</td>\n",
       "    </tr>\n",
       "    <tr>\n",
       "        <td>customer</td>\n",
       "        <td>table</td>\n",
       "    </tr>\n",
       "    <tr>\n",
       "        <td>employee</td>\n",
       "        <td>table</td>\n",
       "    </tr>\n",
       "    <tr>\n",
       "        <td>genre</td>\n",
       "        <td>table</td>\n",
       "    </tr>\n",
       "    <tr>\n",
       "        <td>invoice</td>\n",
       "        <td>table</td>\n",
       "    </tr>\n",
       "    <tr>\n",
       "        <td>invoice_line</td>\n",
       "        <td>table</td>\n",
       "    </tr>\n",
       "    <tr>\n",
       "        <td>media_type</td>\n",
       "        <td>table</td>\n",
       "    </tr>\n",
       "    <tr>\n",
       "        <td>playlist</td>\n",
       "        <td>table</td>\n",
       "    </tr>\n",
       "    <tr>\n",
       "        <td>playlist_track</td>\n",
       "        <td>table</td>\n",
       "    </tr>\n",
       "    <tr>\n",
       "        <td>track</td>\n",
       "        <td>table</td>\n",
       "    </tr>\n",
       "</table>"
      ],
      "text/plain": [
       "[('album', 'table'),\n",
       " ('artist', 'table'),\n",
       " ('customer', 'table'),\n",
       " ('employee', 'table'),\n",
       " ('genre', 'table'),\n",
       " ('invoice', 'table'),\n",
       " ('invoice_line', 'table'),\n",
       " ('media_type', 'table'),\n",
       " ('playlist', 'table'),\n",
       " ('playlist_track', 'table'),\n",
       " ('track', 'table')]"
      ]
     },
     "execution_count": 2,
     "metadata": {},
     "output_type": "execute_result"
    }
   ],
   "source": [
    "%%sql\n",
    "SELECT\n",
    "    name,\n",
    "    type\n",
    "FROM sqlite_master\n",
    "WHERE type IN (\"table\",\"view\");"
   ]
  },
  {
   "cell_type": "code",
   "execution_count": 16,
   "metadata": {
    "collapsed": false,
    "scrolled": true
   },
   "outputs": [
    {
     "name": "stdout",
     "output_type": "stream",
     "text": [
      "Done.\n"
     ]
    },
    {
     "data": {
      "text/html": [
       "<table>\n",
       "    <tr>\n",
       "        <th>customer_id</th>\n",
       "        <th>first_name</th>\n",
       "        <th>last_name</th>\n",
       "        <th>company</th>\n",
       "        <th>address</th>\n",
       "        <th>city</th>\n",
       "        <th>state</th>\n",
       "        <th>country</th>\n",
       "        <th>postal_code</th>\n",
       "        <th>phone</th>\n",
       "        <th>fax</th>\n",
       "        <th>email</th>\n",
       "        <th>support_rep_id</th>\n",
       "    </tr>\n",
       "    <tr>\n",
       "        <td>1</td>\n",
       "        <td>Luís</td>\n",
       "        <td>Gonçalves</td>\n",
       "        <td>Embraer - Empresa Brasileira de Aeronáutica S.A.</td>\n",
       "        <td>Av. Brigadeiro Faria Lima, 2170</td>\n",
       "        <td>São José dos Campos</td>\n",
       "        <td>SP</td>\n",
       "        <td>Brazil</td>\n",
       "        <td>12227-000</td>\n",
       "        <td>+55 (12) 3923-5555</td>\n",
       "        <td>+55 (12) 3923-5566</td>\n",
       "        <td>luisg@embraer.com.br</td>\n",
       "        <td>3</td>\n",
       "    </tr>\n",
       "    <tr>\n",
       "        <td>2</td>\n",
       "        <td>Leonie</td>\n",
       "        <td>Köhler</td>\n",
       "        <td>None</td>\n",
       "        <td>Theodor-Heuss-Straße 34</td>\n",
       "        <td>Stuttgart</td>\n",
       "        <td>None</td>\n",
       "        <td>Germany</td>\n",
       "        <td>70174</td>\n",
       "        <td>+49 0711 2842222</td>\n",
       "        <td>None</td>\n",
       "        <td>leonekohler@surfeu.de</td>\n",
       "        <td>5</td>\n",
       "    </tr>\n",
       "    <tr>\n",
       "        <td>3</td>\n",
       "        <td>François</td>\n",
       "        <td>Tremblay</td>\n",
       "        <td>None</td>\n",
       "        <td>1498 rue Bélanger</td>\n",
       "        <td>Montréal</td>\n",
       "        <td>QC</td>\n",
       "        <td>Canada</td>\n",
       "        <td>H2G 1A7</td>\n",
       "        <td>+1 (514) 721-4711</td>\n",
       "        <td>None</td>\n",
       "        <td>ftremblay@gmail.com</td>\n",
       "        <td>3</td>\n",
       "    </tr>\n",
       "</table>"
      ],
      "text/plain": [
       "[(1, 'Luís', 'Gonçalves', 'Embraer - Empresa Brasileira de Aeronáutica S.A.', 'Av. Brigadeiro Faria Lima, 2170', 'São José dos Campos', 'SP', 'Brazil', '12227-000', '+55 (12) 3923-5555', '+55 (12) 3923-5566', 'luisg@embraer.com.br', 3),\n",
       " (2, 'Leonie', 'Köhler', None, 'Theodor-Heuss-Straße 34', 'Stuttgart', None, 'Germany', '70174', '+49 0711 2842222', None, 'leonekohler@surfeu.de', 5),\n",
       " (3, 'François', 'Tremblay', None, '1498 rue Bélanger', 'Montréal', 'QC', 'Canada', 'H2G 1A7', '+1 (514) 721-4711', None, 'ftremblay@gmail.com', 3)]"
      ]
     },
     "execution_count": 16,
     "metadata": {},
     "output_type": "execute_result"
    }
   ],
   "source": [
    "%%sql\n",
    "SELECT * \n",
    "FROM customer\n",
    "LIMIT 3;\n"
   ]
  },
  {
   "cell_type": "markdown",
   "metadata": {},
   "source": [
    "## Question 1: Selecting Albums to Purchase ##"
   ]
  },
  {
   "cell_type": "markdown",
   "metadata": {},
   "source": [
    "We have to select the first three albums, from a list of four albums, that will be added to the Chinook record store from a new record label. All four albums are by artists that don't have any tracks in the store right now - we have the artist names, and the genre of music they produce:\n",
    "* Regal: Hip-Hop\n",
    "* Red Tone: Punk\n",
    "* Meteor and the Girls: Pop\n",
    "* Slim Jim Bites: Blues"
   ]
  },
  {
   "cell_type": "markdown",
   "metadata": {},
   "source": [
    "We will find out which genres sell the most tracks in the USA, and make a recommendation for the three artists whose albums we should purchase for the store."
   ]
  },
  {
   "cell_type": "code",
   "execution_count": 31,
   "metadata": {
    "collapsed": false
   },
   "outputs": [
    {
     "name": "stdout",
     "output_type": "stream",
     "text": [
      "Done.\n"
     ]
    },
    {
     "data": {
      "text/html": [
       "<table>\n",
       "    <tr>\n",
       "        <th>genre</th>\n",
       "        <th>number_tracks</th>\n",
       "        <th>percentage</th>\n",
       "    </tr>\n",
       "    <tr>\n",
       "        <td>Rock</td>\n",
       "        <td>561</td>\n",
       "        <td>0.5337773549000951</td>\n",
       "    </tr>\n",
       "    <tr>\n",
       "        <td>Alternative &amp; Punk</td>\n",
       "        <td>130</td>\n",
       "        <td>0.12369172216936251</td>\n",
       "    </tr>\n",
       "    <tr>\n",
       "        <td>Metal</td>\n",
       "        <td>124</td>\n",
       "        <td>0.11798287345385347</td>\n",
       "    </tr>\n",
       "    <tr>\n",
       "        <td>R&amp;B/Soul</td>\n",
       "        <td>53</td>\n",
       "        <td>0.05042816365366318</td>\n",
       "    </tr>\n",
       "    <tr>\n",
       "        <td>Blues</td>\n",
       "        <td>36</td>\n",
       "        <td>0.03425309229305423</td>\n",
       "    </tr>\n",
       "    <tr>\n",
       "        <td>Alternative</td>\n",
       "        <td>35</td>\n",
       "        <td>0.03330161750713606</td>\n",
       "    </tr>\n",
       "    <tr>\n",
       "        <td>Latin</td>\n",
       "        <td>22</td>\n",
       "        <td>0.02093244529019981</td>\n",
       "    </tr>\n",
       "    <tr>\n",
       "        <td>Pop</td>\n",
       "        <td>22</td>\n",
       "        <td>0.02093244529019981</td>\n",
       "    </tr>\n",
       "    <tr>\n",
       "        <td>Hip Hop/Rap</td>\n",
       "        <td>20</td>\n",
       "        <td>0.019029495718363463</td>\n",
       "    </tr>\n",
       "    <tr>\n",
       "        <td>Jazz</td>\n",
       "        <td>14</td>\n",
       "        <td>0.013320647002854425</td>\n",
       "    </tr>\n",
       "    <tr>\n",
       "        <td>Easy Listening</td>\n",
       "        <td>13</td>\n",
       "        <td>0.012369172216936251</td>\n",
       "    </tr>\n",
       "    <tr>\n",
       "        <td>Reggae</td>\n",
       "        <td>6</td>\n",
       "        <td>0.005708848715509039</td>\n",
       "    </tr>\n",
       "    <tr>\n",
       "        <td>Electronica/Dance</td>\n",
       "        <td>5</td>\n",
       "        <td>0.004757373929590866</td>\n",
       "    </tr>\n",
       "    <tr>\n",
       "        <td>Classical</td>\n",
       "        <td>4</td>\n",
       "        <td>0.003805899143672693</td>\n",
       "    </tr>\n",
       "    <tr>\n",
       "        <td>Heavy Metal</td>\n",
       "        <td>3</td>\n",
       "        <td>0.0028544243577545195</td>\n",
       "    </tr>\n",
       "    <tr>\n",
       "        <td>Soundtrack</td>\n",
       "        <td>2</td>\n",
       "        <td>0.0019029495718363464</td>\n",
       "    </tr>\n",
       "    <tr>\n",
       "        <td>TV Shows</td>\n",
       "        <td>1</td>\n",
       "        <td>0.0009514747859181732</td>\n",
       "    </tr>\n",
       "</table>"
      ],
      "text/plain": [
       "[('Rock', 561, 0.5337773549000951),\n",
       " ('Alternative & Punk', 130, 0.12369172216936251),\n",
       " ('Metal', 124, 0.11798287345385347),\n",
       " ('R&B/Soul', 53, 0.05042816365366318),\n",
       " ('Blues', 36, 0.03425309229305423),\n",
       " ('Alternative', 35, 0.03330161750713606),\n",
       " ('Latin', 22, 0.02093244529019981),\n",
       " ('Pop', 22, 0.02093244529019981),\n",
       " ('Hip Hop/Rap', 20, 0.019029495718363463),\n",
       " ('Jazz', 14, 0.013320647002854425),\n",
       " ('Easy Listening', 13, 0.012369172216936251),\n",
       " ('Reggae', 6, 0.005708848715509039),\n",
       " ('Electronica/Dance', 5, 0.004757373929590866),\n",
       " ('Classical', 4, 0.003805899143672693),\n",
       " ('Heavy Metal', 3, 0.0028544243577545195),\n",
       " ('Soundtrack', 2, 0.0019029495718363464),\n",
       " ('TV Shows', 1, 0.0009514747859181732)]"
      ]
     },
     "execution_count": 31,
     "metadata": {},
     "output_type": "execute_result"
    }
   ],
   "source": [
    "%%sql \n",
    "       WITH \n",
    "        usa AS\n",
    "        (SELECT cus.customer_id, cus.country FROM customer AS cus\n",
    "        WHERE country='USA'\n",
    "       ),\n",
    "        track_invoice_genre AS\n",
    "        (SELECT i.invoice_id, i.customer_id, il.track_id,t.name,t.genre_id, g.name AS genre\n",
    "         FROM invoice AS i\n",
    "         INNER JOIN invoice_line AS il ON i.invoice_id=il.invoice_id\n",
    "         INNER JOIN track AS t ON il.track_id=t.track_id\n",
    "         INNER JOIN genre AS g ON t.genre_id=g.genre_id\n",
    "        ),\n",
    "         usa_track_genre AS\n",
    "        (SELECT u.customer_id,u.country,tig.customer_id,tig.invoice_id,tig.track_id,tig.name,tig.genre_id,tig.genre\n",
    "         FROM usa AS u\n",
    "         INNER JOIN track_invoice_genre AS tig ON u.customer_id=tig.customer_id\n",
    "         )\n",
    "    \n",
    "\n",
    "SELECT utg.genre, COUNT(utg.track_id) AS number_tracks,\n",
    "       CAST(COUNT(utg.track_id) AS FLOAT)/(SELECT COUNT(utg.track_id) FROM usa_track_genre AS utg) AS percentage\n",
    "FROM usa_track_genre AS utg\n",
    "GROUP BY utg.genre\n",
    "ORDER BY percentage DESC;\n",
    "\n",
    "\n",
    "\n",
    "\n"
   ]
  },
  {
   "cell_type": "markdown",
   "metadata": {
    "collapsed": true
   },
   "source": [
    "The most popular genre corresponds to Rock, followed by Alternative & Punk and Metal. \n",
    "No doubt, we recommend selecting the Red Tone album (punk genre) to include it in the store. The Hip Hop genre is the least popular genre included on the list of four albums, therefore we recomend excluding the corresponding album (Regal: Hip Hop) from the selection and keep:\n",
    "* Red Tone: Punk\n",
    "* Slim Jim Bites: Blues\n",
    "* Meteor and the Girls: Pop"
   ]
  },
  {
   "cell_type": "markdown",
   "metadata": {},
   "source": [
    "## Question 2: Analyzing Employee Sales Performance ##\n",
    "\n",
    "We will analyze the purchases of customers assigned to each employee to determine if any sales support agent is performing better or worse than the others. \n",
    "\n",
    "Our assessment will consider total sales amounts, employee birthdates, and tenure with the company.\n",
    "\n"
   ]
  },
  {
   "cell_type": "code",
   "execution_count": 32,
   "metadata": {
    "collapsed": false
   },
   "outputs": [
    {
     "name": "stdout",
     "output_type": "stream",
     "text": [
      "Done.\n"
     ]
    },
    {
     "data": {
      "text/html": [
       "<table>\n",
       "    <tr>\n",
       "        <th>employee_name</th>\n",
       "        <th>hire_date</th>\n",
       "        <th>birthdate</th>\n",
       "        <th>total</th>\n",
       "    </tr>\n",
       "    <tr>\n",
       "        <td>Jane Peacock</td>\n",
       "        <td>2017-04-01 00:00:00</td>\n",
       "        <td>1973-08-29 00:00:00</td>\n",
       "        <td>1731.510000000004</td>\n",
       "    </tr>\n",
       "    <tr>\n",
       "        <td>Margaret Park</td>\n",
       "        <td>2017-05-03 00:00:00</td>\n",
       "        <td>1947-09-19 00:00:00</td>\n",
       "        <td>1584.0000000000032</td>\n",
       "    </tr>\n",
       "    <tr>\n",
       "        <td>Steve Johnson</td>\n",
       "        <td>2017-10-17 00:00:00</td>\n",
       "        <td>1965-03-03 00:00:00</td>\n",
       "        <td>1393.9200000000028</td>\n",
       "    </tr>\n",
       "</table>"
      ],
      "text/plain": [
       "[('Jane Peacock', '2017-04-01 00:00:00', '1973-08-29 00:00:00', 1731.510000000004),\n",
       " ('Margaret Park', '2017-05-03 00:00:00', '1947-09-19 00:00:00', 1584.0000000000032),\n",
       " ('Steve Johnson', '2017-10-17 00:00:00', '1965-03-03 00:00:00', 1393.9200000000028)]"
      ]
     },
     "execution_count": 32,
     "metadata": {},
     "output_type": "execute_result"
    }
   ],
   "source": [
    "%%sql\n",
    "WITH customer_invoice AS\n",
    "     (SELECT c.support_rep_id, SUM(i.total) AS total\n",
    "      FROM customer AS c\n",
    "      INNER JOIN invoice AS i ON i.customer_id=c.customer_id\n",
    "      GROUP BY support_rep_id\n",
    "      ORDER BY support_rep_id)\n",
    "SELECT e.first_name || \" \" || e.last_name AS employee_name, e.hire_date AS hire_date, e.birthdate AS birthdate, ci.total AS total \n",
    "FROM employee AS e\n",
    "INNER JOIN customer_invoice AS ci ON ci.support_rep_id=e.employee_id;\n"
   ]
  },
  {
   "cell_type": "markdown",
   "metadata": {},
   "source": [
    "There is a 19.5% variation in sales between Jane Peacock, who ranks highest, and Steven Johnson, who ranks lowest. However, this variation can be attributed to differences in their respective hiring dates, spanning a range of about six months. Moreover, Jane Peacock, the agent with the highest amout of sales, is the youngest, which might reflect an ability to connect to a younger customer market."
   ]
  },
  {
   "cell_type": "markdown",
   "metadata": {},
   "source": [
    "## Question 3: Analyzing Sales by Country ##"
   ]
  },
  {
   "cell_type": "markdown",
   "metadata": {},
   "source": [
    "For this question we will analyze the sales data for customers from each country. \n",
    "\n",
    "We will calculate for each country:\n",
    "\n",
    "* Total number of customers\n",
    "* Total value of sales\n",
    "* Average value of sales per customer\n",
    "* Average order value"
   ]
  },
  {
   "cell_type": "code",
   "execution_count": 6,
   "metadata": {
    "collapsed": false,
    "scrolled": true
   },
   "outputs": [
    {
     "name": "stdout",
     "output_type": "stream",
     "text": [
      "Done.\n"
     ]
    },
    {
     "data": {
      "text/html": [
       "<table>\n",
       "    <tr>\n",
       "        <th>_country_</th>\n",
       "        <th>number__customers</th>\n",
       "        <th>total__sales</th>\n",
       "        <th>average_sales_customer</th>\n",
       "        <th>average_order_value</th>\n",
       "    </tr>\n",
       "    <tr>\n",
       "        <td>USA</td>\n",
       "        <td>13</td>\n",
       "        <td>1040.4899999999998</td>\n",
       "        <td>80.0376923076923</td>\n",
       "        <td>7.942671755725189</td>\n",
       "    </tr>\n",
       "    <tr>\n",
       "        <td>Canada</td>\n",
       "        <td>8</td>\n",
       "        <td>535.5900000000001</td>\n",
       "        <td>66.94875000000002</td>\n",
       "        <td>7.047236842105265</td>\n",
       "    </tr>\n",
       "    <tr>\n",
       "        <td>Brazil</td>\n",
       "        <td>5</td>\n",
       "        <td>427.68000000000006</td>\n",
       "        <td>85.53600000000002</td>\n",
       "        <td>7.0111475409836075</td>\n",
       "    </tr>\n",
       "    <tr>\n",
       "        <td>France</td>\n",
       "        <td>5</td>\n",
       "        <td>389.0699999999999</td>\n",
       "        <td>77.81399999999998</td>\n",
       "        <td>7.781399999999998</td>\n",
       "    </tr>\n",
       "    <tr>\n",
       "        <td>Germany</td>\n",
       "        <td>4</td>\n",
       "        <td>334.62</td>\n",
       "        <td>83.655</td>\n",
       "        <td>8.161463414634147</td>\n",
       "    </tr>\n",
       "    <tr>\n",
       "        <td>Czech Republic</td>\n",
       "        <td>2</td>\n",
       "        <td>273.24000000000007</td>\n",
       "        <td>136.62000000000003</td>\n",
       "        <td>9.108000000000002</td>\n",
       "    </tr>\n",
       "    <tr>\n",
       "        <td>United Kingdom</td>\n",
       "        <td>3</td>\n",
       "        <td>245.52</td>\n",
       "        <td>81.84</td>\n",
       "        <td>8.768571428571429</td>\n",
       "    </tr>\n",
       "    <tr>\n",
       "        <td>Portugal</td>\n",
       "        <td>2</td>\n",
       "        <td>185.13000000000002</td>\n",
       "        <td>92.56500000000001</td>\n",
       "        <td>6.383793103448276</td>\n",
       "    </tr>\n",
       "    <tr>\n",
       "        <td>India</td>\n",
       "        <td>2</td>\n",
       "        <td>183.14999999999998</td>\n",
       "        <td>91.57499999999999</td>\n",
       "        <td>8.72142857142857</td>\n",
       "    </tr>\n",
       "    <tr>\n",
       "        <td>Others</td>\n",
       "        <td>15</td>\n",
       "        <td>1094.9399999999998</td>\n",
       "        <td>72.996</td>\n",
       "        <td>7.4485714285714275</td>\n",
       "    </tr>\n",
       "</table>"
      ],
      "text/plain": [
       "[('USA', 13, 1040.4899999999998, 80.0376923076923, 7.942671755725189),\n",
       " ('Canada', 8, 535.5900000000001, 66.94875000000002, 7.047236842105265),\n",
       " ('Brazil', 5, 427.68000000000006, 85.53600000000002, 7.0111475409836075),\n",
       " ('France', 5, 389.0699999999999, 77.81399999999998, 7.781399999999998),\n",
       " ('Germany', 4, 334.62, 83.655, 8.161463414634147),\n",
       " ('Czech Republic', 2, 273.24000000000007, 136.62000000000003, 9.108000000000002),\n",
       " ('United Kingdom', 3, 245.52, 81.84, 8.768571428571429),\n",
       " ('Portugal', 2, 185.13000000000002, 92.56500000000001, 6.383793103448276),\n",
       " ('India', 2, 183.14999999999998, 91.57499999999999, 8.72142857142857),\n",
       " ('Others', 15, 1094.9399999999998, 72.996, 7.4485714285714275)]"
      ]
     },
     "execution_count": 6,
     "metadata": {},
     "output_type": "execute_result"
    }
   ],
   "source": [
    "%%sql\n",
    "WITH customer_invoice AS\n",
    "    (SELECT c.customer_id AS customer_id, c.country AS country, i.invoice_id AS invoice_id, i.total AS total\n",
    "     FROM customer AS c\n",
    "     INNER JOIN invoice AS i ON i.customer_id=c.customer_id\n",
    "     ORDER BY c.country\n",
    "    ), \n",
    "     total_customer_sales AS\n",
    "    (SELECT COUNT(DISTINCT invoice_id) AS number_invoices, country, COUNT(DISTINCT customer_id) AS number_customers, SUM(total) total_sales\n",
    "     FROM customer_invoice AS ci\n",
    "     GROUP BY country\n",
    "     ORDER BY country\n",
    "    )\n",
    "SELECT _country_,number__customers,total__sales, total__sales/number__customers AS average_sales_customer, total__sales/number__invoices AS average_order_value\n",
    "FROM (SELECT t.*,\n",
    "       CASE \n",
    "           WHEN t.number_customers=1 THEN 1\n",
    "           ELSE 0\n",
    "       END AS sort,\n",
    "       CASE\n",
    "        WHEN t.number_customers > 1 THEN t.country\n",
    "        ELSE 'Others'\n",
    "       END AS _country_,\n",
    "       CASE \n",
    "        WHEN t.number_customers>1 THEN t.total_sales\n",
    "        ELSE SUM(t.total_sales) \n",
    "        END AS total__sales,\n",
    "       CASE \n",
    "        WHEN t.number_customers>1 THEN t.number_customers\n",
    "        ELSE SUM(t.number_customers) \n",
    "        END AS number__customers,\n",
    "       CASE \n",
    "        WHEN t.number_customers>1 THEN t.number_invoices\n",
    "        ELSE SUM(t.number_invoices) \n",
    "        END AS number__invoices\n",
    "    FROM total_customer_sales AS t\n",
    "    GROUP BY _country_\n",
    "      )\n",
    "    ORDER BY sort ASC, total__sales DESC;"
   ]
  },
  {
   "cell_type": "markdown",
   "metadata": {},
   "source": [
    "Analyzing the data suggests potential opportunities in the following countries: Czech Republic, United Kingdom, and India. \n",
    "\n",
    "However, it's important to note that the data volume from these countries is relatively small. Therefore, we should be cautious when deciding where to spend money for new marketing campaigns, as the sample size isn't substantial enough to provide a high level of confidence. A more prudent approach would involve conducting small-scale campaigns in these countries, allowing us to collect and analyze data from new customers to ensure that these trends persist among this customer segment."
   ]
  },
  {
   "cell_type": "markdown",
   "metadata": {},
   "source": [
    "## Question 4: Albums vs Individual Tracks ##"
   ]
  },
  {
   "cell_type": "markdown",
   "metadata": {},
   "source": [
    "The Chinook store is setup in a way that allows customer to make purchases in one of the two ways:\n",
    "* purchase a whole album\n",
    "* purchase a collection of one or more individual tracks.\n",
    "\n",
    "The store does not let customers purchase a whole album, and then add individual tracks to that same purchase (unless they do that by choosing each track manually). When customers purchase albums they are charged the same price as if they had purchased each of those tracks separately.\n",
    "\n",
    "Management are currently considering changing their purchasing strategy to save money. The strategy they are considering is to purchase only the most popular tracks from each album from record companies, instead of purchasing every track from an album.\n",
    "\n",
    "We have been asked to find out what percentage of purchases are individual tracks vs whole albums, so that management can use this data to understand the effect this decision might have on overall revenue.\n",
    "\n"
   ]
  },
  {
   "cell_type": "code",
   "execution_count": 7,
   "metadata": {
    "collapsed": false
   },
   "outputs": [
    {
     "name": "stdout",
     "output_type": "stream",
     "text": [
      "Done.\n"
     ]
    },
    {
     "data": {
      "text/html": [
       "<table>\n",
       "    <tr>\n",
       "        <th>album_purchased</th>\n",
       "        <th>number_of_invoices</th>\n",
       "        <th>percent</th>\n",
       "    </tr>\n",
       "    <tr>\n",
       "        <td>no</td>\n",
       "        <td>500</td>\n",
       "        <td>0.8143322475570033</td>\n",
       "    </tr>\n",
       "    <tr>\n",
       "        <td>yes</td>\n",
       "        <td>114</td>\n",
       "        <td>0.18566775244299674</td>\n",
       "    </tr>\n",
       "</table>"
      ],
      "text/plain": [
       "[('no', 500, 0.8143322475570033), ('yes', 114, 0.18566775244299674)]"
      ]
     },
     "execution_count": 7,
     "metadata": {},
     "output_type": "execute_result"
    }
   ],
   "source": [
    "%%sql\n",
    "WITH invoice_track AS (\n",
    "   SELECT invoice_id, t.track_id, album_id\n",
    "   FROM invoice_line AS il\n",
    "   INNER JOIN track AS t ON t.track_id = il.track_id\n",
    "),\n",
    "first_track AS (\n",
    "    SELECT invoice_id, MIN(track_id) AS first_track, album_id AS album_id\n",
    "    FROM invoice_track AS ita\n",
    "    GROUP BY invoice_id\n",
    "),\n",
    "album_purchases AS (\n",
    "   SELECT\n",
    "      it.invoice_id,\n",
    "      it.album_id,\n",
    "      CASE\n",
    "        WHEN (\n",
    "          SELECT t.track_id\n",
    "          FROM track t\n",
    "          WHERE t.album_id = it.album_id\n",
    "          \n",
    "          EXCEPT\n",
    "          \n",
    "          SELECT il2.track_id\n",
    "          FROM invoice_line il2\n",
    "          WHERE il2.invoice_id = it.invoice_id\n",
    "        ) IS NULL\n",
    "        AND (\n",
    "          SELECT il2.track_id\n",
    "          FROM invoice_line il2\n",
    "          WHERE il2.invoice_id = it.invoice_id\n",
    "          \n",
    "          EXCEPT\n",
    "          \n",
    "          SELECT t.track_id\n",
    "          FROM track t\n",
    "          WHERE t.album_id = it.album_id\n",
    "        ) IS NULL\n",
    "        THEN 'yes'\n",
    "        ELSE 'no'\n",
    "      END AS album_purchased\n",
    "   FROM invoice_track AS it\n",
    ")\n",
    "SELECT\n",
    "  album_purchased,\n",
    "  COUNT(DISTINCT invoice_id) AS number_of_invoices,\n",
    "  CAST(COUNT(DISTINCT invoice_id) AS FLOAT) / (\n",
    "    SELECT COUNT(DISTINCT invoice_id) FROM invoice_track\n",
    "  ) AS percent\n",
    "FROM album_purchases\n",
    "GROUP BY album_purchased;\n",
    "\n"
   ]
  },
  {
   "cell_type": "markdown",
   "metadata": {
    "collapsed": true
   },
   "source": [
    "Out of all purchases made, album purchases represent 18.6%. Given this information, I would advise against buying individual tracks from record company albums exclusively, as it could result in a potential loss of approximately 20% of revenue."
   ]
  },
  {
   "cell_type": "markdown",
   "metadata": {},
   "source": [
    "## Conclusions ##"
   ]
  },
  {
   "cell_type": "markdown",
   "metadata": {},
   "source": [
    "In this project, we used the sqlite3 module to examine Chinook's sales data. Our goal was to gain insights into the sales dynamics and employee performance. We addressed strategic business questions within fictional scenarios, such as introducing new artists to the product portfolio and considering a change in purchasing strategy."
   ]
  },
  {
   "cell_type": "code",
   "execution_count": null,
   "metadata": {
    "collapsed": true
   },
   "outputs": [],
   "source": []
  }
 ],
 "metadata": {
  "kernelspec": {
   "display_name": "Python 3",
   "language": "python",
   "name": "python3"
  },
  "language_info": {
   "codemirror_mode": {
    "name": "ipython",
    "version": 3
   },
   "file_extension": ".py",
   "mimetype": "text/x-python",
   "name": "python",
   "nbconvert_exporter": "python",
   "pygments_lexer": "ipython3",
   "version": "3.4.3"
  }
 },
 "nbformat": 4,
 "nbformat_minor": 2
}
